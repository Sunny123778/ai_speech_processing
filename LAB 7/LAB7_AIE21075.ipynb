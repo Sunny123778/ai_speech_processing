{
 "cells": [
  {
   "cell_type": "code",
   "execution_count": 3,
   "id": "6d64de9c",
   "metadata": {},
   "outputs": [
    {
     "name": "stderr",
     "output_type": "stream",
     "text": [
      "Fitting a model with 1580558 free scalar parameters with only 132225 data points will result in a degenerate solution.\n",
      "C:\\ProgramData\\anaconda3\\Lib\\site-packages\\sklearn\\cluster\\_kmeans.py:1436: UserWarning: KMeans is known to have a memory leak on Windows with MKL, when there are less chunks than available threads. You can avoid it by setting the environment variable OMP_NUM_THREADS=1.\n",
      "  warnings.warn(\n"
     ]
    },
    {
     "name": "stdout",
     "output_type": "stream",
     "text": [
      "Predicted labels: [1 1 1 1 1 1 1 1 1 1 1 1 1 1 1 1 1 1 1 1 1 1 1 1 1 1 1 1 1 1 1 1 1 1 1 1 1\n",
      " 1 1 1 1 1 1 1 1 1 1 1 1 1 1 0 2 2 2 2 2 2 0 1 1 1 1 1 1 1 0 0 0 0 0 0 0 0\n",
      " 0 1 1 1 1 1 0 0 0 0 0 1 1 1 1 1 1 0 2 2 0 1 1 1 1 1 1 1 1 1 1 0 0 0 1 1 1\n",
      " 1 1 1 1 1 1 1 1 1 1 1 1 1 1 1 1 1 1]\n"
     ]
    }
   ],
   "source": [
    "import numpy as np\n",
    "import librosa\n",
    "from hmmlearn import hmm\n",
    " \n",
    "# Load the audio file\n",
    "file_path = \"recordd.wav\"  # Assuming the file is in the same directory as your notebook\n",
    "signal, sr = librosa.load(file_path, sr=None)\n",
    " \n",
    "# Extract STFT features\n",
    "stft = np.abs(librosa.stft(signal))\n",
    " \n",
    "# Convert STFT features to observation sequence\n",
    "obs_seq = np.transpose(stft)\n",
    " \n",
    "# Train an HMM model\n",
    "num_states = 3  # Number of states in the HMM\n",
    "num_mix = 1     # Number of mixtures in each state\n",
    "model = hmm.GaussianHMM(n_components=num_states, covariance_type=\"full\", n_iter=1000)\n",
    "model.fit(obs_seq)\n",
    " \n",
    "# Classify using trained HMM model\n",
    "predicted_labels = model.predict(obs_seq)\n",
    " \n",
    "# Output the predicted labels\n",
    "print(\"Predicted labels:\", predicted_labels)"
   ]
  },
  {
   "cell_type": "code",
   "execution_count": null,
   "id": "cc34076d",
   "metadata": {},
   "outputs": [],
   "source": []
  }
 ],
 "metadata": {
  "kernelspec": {
   "display_name": "Python 3 (ipykernel)",
   "language": "python",
   "name": "python3"
  },
  "language_info": {
   "codemirror_mode": {
    "name": "ipython",
    "version": 3
   },
   "file_extension": ".py",
   "mimetype": "text/x-python",
   "name": "python",
   "nbconvert_exporter": "python",
   "pygments_lexer": "ipython3",
   "version": "3.11.5"
  }
 },
 "nbformat": 4,
 "nbformat_minor": 5
}
